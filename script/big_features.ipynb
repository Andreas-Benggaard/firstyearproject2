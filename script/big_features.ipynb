{
 "cells": [
  {
   "cell_type": "code",
   "execution_count": null,
   "metadata": {},
   "outputs": [],
   "source": [
    "import matplotlib.pyplot as plt\n",
    "import numpy as np\n",
    "import pandas as pd\n",
    "import seaborn as sns"
   ]
  },
  {
   "cell_type": "code",
   "execution_count": null,
   "metadata": {},
   "outputs": [],
   "source": [
    "# Load features and labels\n",
    "\n",
    "file_truth = \"../data/ourData/ISIC-2017_Training_Data_metadata.csv\"\n",
    "file_results = \"../data/ourData/ISIC-2017_Training_Part3_GroundTruth.csv\"\n",
    "file_border = \"./border_big.csv\"\n",
    "file_ratio = \"./ratio_big.csv\"\n",
    "file_color = \"./color_big.csv\"\n",
    "\n",
    "\n",
    "df_truth = pd.read_csv(file_truth)\n",
    "print(df_truth.shape)\n",
    "df = df_truth.drop(df_truth[df_truth.age_approximate == 'unknown'].index)\n",
    "print(df.shape)\n",
    "df_border = pd.read_csv(file_border)\n",
    "df_ratio = pd.read_csv(file_ratio)\n",
    "df_color = pd.read_csv(file_color)\n",
    "df_results = pd.read_csv(file_results)\n",
    "\n",
    "df = pd.merge(df, df_results, on=\"image_id\")\n",
    "df = pd.merge(df, df_border, on=\"image_id\")\n",
    "df = pd.merge(df, df_ratio, on=\"image_id\")\n",
    "df = pd.merge(df, df_color, on=\"image_id\")\n",
    "\n",
    "print(df.shape)\n",
    "df"
   ]
  },
  {
   "cell_type": "code",
   "execution_count": null,
   "metadata": {},
   "outputs": [],
   "source": [
    "df['age_approximate'] = df['age_approximate'].astype(int)\n",
    "\n",
    "# print(type(df[age_approximate]))\n",
    "\n",
    "df[\"age_bins\"] = pd.cut(\n",
    "    x=df[\"age_approximate\"],\n",
    "    bins=[int(20), int(25), int(30), int(50), int(90), np.inf],\n",
    "    labels=[\"child\", \"young\",\"young_old\", \"adult\",\"old\"],\n",
    ")\n",
    "df"
   ]
  },
  {
   "cell_type": "code",
   "execution_count": null,
   "metadata": {},
   "outputs": [],
   "source": [
    "import pandas as pd\n",
    "import numpy as np\n",
    "df_new = pd.DataFrame(\n",
    "    {\"first_names\": [\"Todd\", \"Juan\", \"Maria\", \"Hi\", \"Sal\"], \"age\": [12, 13, 19, 20, 42]})\n",
    "\n",
    "\n",
    "\n",
    "df_new[\"age_bins\"] = pd.cut(\n",
    "    x=df_new[\"age\"],\n",
    "    bins=[1, 12, 19, np.inf],\n",
    "    labels=[\"child\", \"teenager\", \"adult\"],\n",
    ")\n",
    "df_new"
   ]
  },
  {
   "cell_type": "code",
   "execution_count": null,
   "metadata": {},
   "outputs": [],
   "source": [
    "#boxplot of the area and perimeter\n",
    "dff = df[['area', 'circularity', 'ratio','color_variance']]\n",
    "sns.boxplot(data = dff,)\n",
    "\n"
   ]
  },
  {
   "cell_type": "code",
   "execution_count": null,
   "metadata": {},
   "outputs": [],
   "source": [
    "#histogram of the area and perimeter\n",
    "plt.hist(dff)\n",
    "plt.xlabel('area, perimeter, border and symmetry')\n",
    "plt.ylabel('count times')\n",
    "a = np.histogram(df['area'])\n",
    "b = np.histogram(df['perimeter'])\n",
    "print('area and its count',list(zip(a[0],a[1])),'\\n','area and its count',list(zip(b[0],b[1])))\n",
    "\n",
    "#the issue is that if we plot the two together, we can only see the area because the area is significantly larger than the perimeter"
   ]
  },
  {
   "cell_type": "code",
   "execution_count": null,
   "metadata": {},
   "outputs": [],
   "source": [
    "#nomalizes the data so we can visualize both better \n",
    "from sklearn import preprocessing\n",
    "print(dff)\n",
    "scaled_data_dff = preprocessing.StandardScaler().fit(dff).transform(dff)\n",
    "#plt.hist(scaled_data)\n",
    "\n",
    "print('mean',scaled_data_dff.mean()) #small number close to 0, round of error\n",
    "print('var',scaled_data_dff.var())\n",
    "sns.boxplot(data = scaled_data_dff)"
   ]
  },
  {
   "cell_type": "code",
   "execution_count": null,
   "metadata": {},
   "outputs": [],
   "source": [
    "plt.hist(scaled_data_dff)\n",
    "plt.xlabel('area, perimeter,border and symmetry')\n",
    "plt.ylabel('count times')"
   ]
  },
  {
   "cell_type": "code",
   "execution_count": null,
   "metadata": {},
   "outputs": [],
   "source": [
    "#we use the scaled data for this \n",
    "#we do this to see what features the cancer and cancer-free lesions have\n",
    "df2 = pd.DataFrame(scaled_data_dff,columns=['area', 'circularity', 'ratio','color_variance'])\n",
    "df2['sex'] = df['sex']\n",
    "sns.pairplot(df2,hue='sex',diag_kind=\"hist\")"
   ]
  },
  {
   "cell_type": "code",
   "execution_count": null,
   "metadata": {},
   "outputs": [],
   "source": [
    "#we use the scaled data for this \n",
    "#we do this to see what features the cancer and cancer-free lesions have\n",
    "df2 = pd.DataFrame(scaled_data_dff,columns=['area', 'circularity', 'ratio','color_variance'])\n",
    "df2['melanoma'] = df['melanoma']\n",
    "sns.pairplot(df2,hue='melanoma',diag_kind=\"hist\")"
   ]
  },
  {
   "cell_type": "code",
   "execution_count": null,
   "metadata": {},
   "outputs": [],
   "source": [
    "#we use the scaled data for this \n",
    "#we do this to see what features the cancer and cancer-free lesions have\n",
    "df2 = pd.DataFrame(scaled_data_dff,columns=['area', 'circularity', 'ratio','color_variance'])\n",
    "\n",
    "# age_period = {'child':[0,19],'young':[20,25],'youngII':[26,30],'adult':[31,50],'old':[51,90]}\n",
    "\n",
    "df2['age_bin'] = df['age_bins']\n",
    "\n",
    "sns.pairplot(df2,hue='age_bin',diag_kind=\"hist\")"
   ]
  },
  {
   "cell_type": "code",
   "execution_count": null,
   "metadata": {},
   "outputs": [],
   "source": [
    "#conclusions we can get:\n",
    "\n",
    "\n",
    "# Area and perimeter have a strong correlation. Border and area do not. The border can vary from being very smooth to not as much- independently\n",
    "# of the area. However, most of the noncancerous lesions are more likely to be smaller, no matter the border smoothness to some extent, \n",
    "# while the cancerous ones show a rogue behaviour as they are more spread out seeing no restrictions in their size or border crisp.\n",
    "# Area and symmetry do have a correlation, suggesting the smaller the area the less chances there are of the lesions being asymmetric.\n",
    "# Once again, the noncancerous lesions are more likely to be smaller and more symmetric, while the cancerous ones are very spread. Furthermore,\n",
    "# the less variant the colors of the lesion, the higher chance the lesion is noncancerous, while the cancerous onces, again, folow no \n",
    "# parameters.\n",
    "\n",
    "# For the colors, the variance says more than the mean, min and max colors. The range of colors was significant and it showed similar results\n",
    "# to the variance one. Nevertheless, the variance is used because it determines the variarity of the tones and the uniformness in its \n",
    "# color - mathematically, it gives more information. The less variant, the more likely the lesion is not cancerous. \n",
    "\n",
    "\n",
    "# Perimeter and border have a very similar behaviour to the area/border comparison. No correlation, but the noncancerous are more \n",
    "# likely to be smaller, however, in this case they are not as dependent on that matter. And, again, when comparing perimeter and symmetry,\n",
    "# noncancerous lesions are very symmetric, but do not seem to be as restricted by its perimeter. This suggests that the sickness is more \n",
    "# restricted to the area and not the perimeter.\n",
    "#  \n",
    "# \n",
    "# Moreover, plotting the border with the symmetry we can see that most of the noncancerous lesions are highly symmetrical and the \n",
    "# smoothness of its borders can highly vary. While most of the cancerous lesions range from symmetrical to highly asymmetrical, and from \n",
    "# smooth to very crispy.\n",
    "\n",
    "# In conclusion, according to our data, cancerous lesions do not seem to follow any restrictions. They act rogue, independent of its size,\n",
    "# border smoothness, color or symmetry. However, noncancerous lesions do seem to follow a pattern. The latter are more likely to be small,\n",
    "# uniform in color and symmetric. These show no corrleation with the border smoothness. \n"
   ]
  },
  {
   "cell_type": "code",
   "execution_count": null,
   "metadata": {},
   "outputs": [],
   "source": []
  }
 ],
 "metadata": {
  "interpreter": {
   "hash": "cbb95918f63270a4f1a16592c150d3cea5ac764edb7cb8a2e73414479a0d4991"
  },
  "kernelspec": {
   "display_name": "Python 3.8.8",
   "language": "python",
   "name": "python3"
  },
  "language_info": {
   "codemirror_mode": {
    "name": "ipython",
    "version": 3
   },
   "file_extension": ".py",
   "mimetype": "text/x-python",
   "name": "python",
   "nbconvert_exporter": "python",
   "pygments_lexer": "ipython3",
   "version": "3.8.8"
  },
  "orig_nbformat": 4
 },
 "nbformat": 4,
 "nbformat_minor": 2
}
