{
 "cells": [
  {
   "cell_type": "code",
   "execution_count": null,
   "id": "060aa878-3e43-49c5-a497-bd8c4737c97b",
   "metadata": {},
   "outputs": [],
   "source": [
    "import pandas as pd                                                            # used to provide major datastructure pd.DataFrame() to store the datasets\n",
    "import numpy as np                                                             # used for numerical calculations and fast array manipulations\n",
    "import folium                                                                  # used for spatial data visualizations\n",
    "import json                                                                    # used for loading json data correctly\n",
    "import statsmodels.api as sm                                                   # used to run multivariate linear regression\n",
    "from scipy.stats import pearsonr, spearmanr                                    # used to run 'pearson' and 'spearman' association tests of numerical variables on two variables\n",
    "from statsmodels.stats.multitest import multipletests                          # used to run multiple tests of p-values for multiple variables\n",
    "import matplotlib.pyplot as plt\n",
    "from IPython.display import Markdown, display                                  # used to print stuff with markdown/HTML formatting for bold text and colored text\n",
    "def printmd(string):\n",
    "    display(Markdown(string))"
   ]
  },
  {
   "cell_type": "markdown",
   "id": "d06c9542-18d7-463e-96c1-98fb21f8218b",
   "metadata": {},
   "source": [
    "Task 0"
   ]
  },
  {
   "cell_type": "code",
   "execution_count": null,
   "id": "49f6d385-fa06-4bcd-ba0b-676157889136",
   "metadata": {},
   "outputs": [],
   "source": [
    "data_truth = pd.read_csv(\"../../data/raw_data/example_ground_truth.csv\")\n",
    "data_truth"
   ]
  },
  {
   "cell_type": "code",
   "execution_count": null,
   "id": "f3ce2f3d-34f3-49ad-b725-813f4677b745",
   "metadata": {},
   "outputs": [],
   "source": [
    "data_truth['melanoma'].value_counts()"
   ]
  },
  {
   "cell_type": "code",
   "execution_count": null,
   "id": "5767394b-cc4a-4a68-aa93-e04f01641c7a",
   "metadata": {},
   "outputs": [],
   "source": [
    "data_truth['seborrheic_keratosis'].value_counts()"
   ]
  },
  {
   "cell_type": "code",
   "execution_count": null,
   "id": "10cae60a-1276-45f2-851e-93977caafa64",
   "metadata": {},
   "outputs": [],
   "source": [
    "#Don't know if this is useful, but the challenge said 'if there in one class and/or other class'\n",
    "\n",
    "same=['seborrheic_keratosis']==['melanoma']\n",
    "print('There are some same values:', same)\n",
    "notsame=['seborrheic_keratosis']!=['melanoma']\n",
    "print('There are no same values:', notsame)"
   ]
  },
  {
   "cell_type": "code",
   "execution_count": 53,
   "id": "a545d9a1-9983-4290-bfaf-3f486ad47379",
   "metadata": {},
   "outputs": [
    {
     "data": {
      "text/html": [
       "<div>\n",
       "<style scoped>\n",
       "    .dataframe tbody tr th:only-of-type {\n",
       "        vertical-align: middle;\n",
       "    }\n",
       "\n",
       "    .dataframe tbody tr th {\n",
       "        vertical-align: top;\n",
       "    }\n",
       "\n",
       "    .dataframe thead th {\n",
       "        text-align: right;\n",
       "    }\n",
       "</style>\n",
       "<table border=\"1\" class=\"dataframe\">\n",
       "  <thead>\n",
       "    <tr style=\"text-align: right;\">\n",
       "      <th></th>\n",
       "      <th>image_id</th>\n",
       "      <th>age_approximate</th>\n",
       "      <th>sex</th>\n",
       "    </tr>\n",
       "  </thead>\n",
       "  <tbody>\n",
       "    <tr>\n",
       "      <th>0</th>\n",
       "      <td>ISIC_0000000</td>\n",
       "      <td>55</td>\n",
       "      <td>female</td>\n",
       "    </tr>\n",
       "    <tr>\n",
       "      <th>1</th>\n",
       "      <td>ISIC_0000001</td>\n",
       "      <td>30</td>\n",
       "      <td>female</td>\n",
       "    </tr>\n",
       "    <tr>\n",
       "      <th>2</th>\n",
       "      <td>ISIC_0000002</td>\n",
       "      <td>60</td>\n",
       "      <td>female</td>\n",
       "    </tr>\n",
       "    <tr>\n",
       "      <th>3</th>\n",
       "      <td>ISIC_0000003</td>\n",
       "      <td>30</td>\n",
       "      <td>male</td>\n",
       "    </tr>\n",
       "    <tr>\n",
       "      <th>4</th>\n",
       "      <td>ISIC_0000004</td>\n",
       "      <td>80</td>\n",
       "      <td>male</td>\n",
       "    </tr>\n",
       "    <tr>\n",
       "      <th>...</th>\n",
       "      <td>...</td>\n",
       "      <td>...</td>\n",
       "      <td>...</td>\n",
       "    </tr>\n",
       "    <tr>\n",
       "      <th>1995</th>\n",
       "      <td>ISIC_0015220</td>\n",
       "      <td>75</td>\n",
       "      <td>male</td>\n",
       "    </tr>\n",
       "    <tr>\n",
       "      <th>1996</th>\n",
       "      <td>ISIC_0015233</td>\n",
       "      <td>60</td>\n",
       "      <td>male</td>\n",
       "    </tr>\n",
       "    <tr>\n",
       "      <th>1997</th>\n",
       "      <td>ISIC_0015260</td>\n",
       "      <td>55</td>\n",
       "      <td>female</td>\n",
       "    </tr>\n",
       "    <tr>\n",
       "      <th>1998</th>\n",
       "      <td>ISIC_0015284</td>\n",
       "      <td>75</td>\n",
       "      <td>male</td>\n",
       "    </tr>\n",
       "    <tr>\n",
       "      <th>1999</th>\n",
       "      <td>ISIC_0015295</td>\n",
       "      <td>70</td>\n",
       "      <td>male</td>\n",
       "    </tr>\n",
       "  </tbody>\n",
       "</table>\n",
       "<p>2000 rows × 3 columns</p>\n",
       "</div>"
      ],
      "text/plain": [
       "          image_id age_approximate     sex\n",
       "0     ISIC_0000000              55  female\n",
       "1     ISIC_0000001              30  female\n",
       "2     ISIC_0000002              60  female\n",
       "3     ISIC_0000003              30    male\n",
       "4     ISIC_0000004              80    male\n",
       "...            ...             ...     ...\n",
       "1995  ISIC_0015220              75    male\n",
       "1996  ISIC_0015233              60    male\n",
       "1997  ISIC_0015260              55  female\n",
       "1998  ISIC_0015284              75    male\n",
       "1999  ISIC_0015295              70    male\n",
       "\n",
       "[2000 rows x 3 columns]"
      ]
     },
     "execution_count": 53,
     "metadata": {},
     "output_type": "execute_result"
    }
   ],
   "source": [
    "data_grouped = pd.read_csv(\"../../data/ourData/ISIC-2017_Training_Data_metadata.csv\")\n",
    "data_grouped"
   ]
  },
  {
   "cell_type": "code",
   "execution_count": 64,
   "id": "95ddc96c-8e67-4683-a801-b206220ebf05",
   "metadata": {},
   "outputs": [
    {
     "data": {
      "text/plain": [
       "male       900\n",
       "female     871\n",
       "unknown    229\n",
       "Name: sex, dtype: int64"
      ]
     },
     "execution_count": 64,
     "metadata": {},
     "output_type": "execute_result"
    }
   ],
   "source": [
    "data_grouped['sex'].value_counts()"
   ]
  },
  {
   "cell_type": "code",
   "execution_count": 71,
   "id": "616b3784-e93b-41fc-a741-5caa411d2e48",
   "metadata": {},
   "outputs": [
    {
     "data": {
      "text/plain": [
       "1744"
      ]
     },
     "execution_count": 71,
     "metadata": {},
     "output_type": "execute_result"
    }
   ],
   "source": [
    "2000-256"
   ]
  },
  {
   "cell_type": "code",
   "execution_count": 68,
   "id": "ddd97950-38fa-40c5-bfc5-f5917b229d5f",
   "metadata": {},
   "outputs": [
    {
     "data": {
      "text/plain": [
       "unknown    256\n",
       "45         176\n",
       "60         166\n",
       "65         141\n",
       "50         138\n",
       "55         132\n",
       "40         129\n",
       "30         128\n",
       "15         127\n",
       "70         126\n",
       "35          97\n",
       "25          96\n",
       "75          87\n",
       "80          80\n",
       "85          57\n",
       "20          40\n",
       "10          20\n",
       "5            4\n",
       "Name: age_approximate, dtype: int64"
      ]
     },
     "execution_count": 68,
     "metadata": {},
     "output_type": "execute_result"
    }
   ],
   "source": [
    "data_grouped['age_approximate'].value_counts()"
   ]
  },
  {
   "cell_type": "markdown",
   "id": "fa179a64-fe94-4bf7-86c9-77bd97f9cfac",
   "metadata": {},
   "source": [
    "The meta data provides the diagnosises *in terms of*/*based on* ex. age, and sex.\n",
    "The meta data for melanoma contains 2000 images. There's 229 missing data for sex. For age there's 256 missing data.\n",
    "\n",
    "IS THIS A FLAW IN THE PROCEDURE OR DID PEOPLE NOT WANT TO GIVE THAT INFORMATION?\n",
    "\n",
    "A problem with some of the images is that the image doesn't include the entire skin lesion, which makes it *hard/inaccurate* to detect ABC. This is evident in ex. ISIC_0014212.jpg.\n",
    "\n",
    "There's also images of low quality, such as ISIC_0015445.jpg. *THIS DOESN'T MAKE A DIFFERENCE AFTER CONVERTED TO BLACK AND WHITE? BUT COULD MAKE ARE \"HUMAN\" EVALUTION WORSE.*"
   ]
  },
  {
   "cell_type": "code",
   "execution_count": null,
   "id": "30f07773-c6d9-4ee5-afdd-268dafa44ffe",
   "metadata": {},
   "outputs": [],
   "source": []
  }
 ],
 "metadata": {
  "kernelspec": {
   "display_name": "Python 3",
   "language": "python",
   "name": "python3"
  },
  "language_info": {
   "codemirror_mode": {
    "name": "ipython",
    "version": 3
   },
   "file_extension": ".py",
   "mimetype": "text/x-python",
   "name": "python",
   "nbconvert_exporter": "python",
   "pygments_lexer": "ipython3",
   "version": "3.8.8"
  }
 },
 "nbformat": 4,
 "nbformat_minor": 5
}
