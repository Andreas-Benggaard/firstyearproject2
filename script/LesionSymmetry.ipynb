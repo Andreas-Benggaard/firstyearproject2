{
 "cells": [
  {
   "cell_type": "code",
   "execution_count": null,
   "id": "6912e548",
   "metadata": {},
   "outputs": [],
   "source": [
    "import cv2\n",
    "import numpy as np\n",
    "from PIL import Image\n",
    "import matplotlib.pyplot as plt \n",
    "from numpy import asarray\n",
    "from skimage import transform\n",
    "\n",
    "img = \"../data/raw_data/example_segmentation/ISIC_0001769_segmentation.png\"\n",
    "img = cv2.imread(img, cv2.IMREAD_GRAYSCALE)"
   ]
  },
  {
   "cell_type": "code",
   "execution_count": null,
   "id": "5fa35d04",
   "metadata": {},
   "outputs": [],
   "source": [
    "def find_center(img):\n",
    "    img_bin = (img>128).astype(np.uint8)\n",
    "    contours, _ = cv2.findContours(img_bin, mode=cv2.RETR_EXTERNAL, method=cv2.CHAIN_APPROX_NONE)\n",
    "\n",
    "    M = cv2.moments(contours[0])\n",
    "    center = (int(M[\"m10\"] / M[\"m00\"]), int(M[\"m01\"] / M[\"m00\"]))\n",
    "    return center"
   ]
  },
  {
   "cell_type": "code",
   "execution_count": null,
   "id": "8e5da86c",
   "metadata": {},
   "outputs": [],
   "source": [
    "# Found by Erling Amundsen\n",
    "def rotate_bound(image, angle):\n",
    "    # grab the dimensions of the image and then determine the\n",
    "    # center\n",
    "    (h, w) = image.shape[:2]\n",
    "    (cX, cY) = (find_center(image))\n",
    "    print(find_center(image))\n",
    "\n",
    "    # grab the rotation matrix (applying the negative of the\n",
    "    # angle to rotate clockwise), then grab the sine and cosine\n",
    "    # (i.e., the rotation components of the matrix)\n",
    "    M = cv2.getRotationMatrix2D((cX, cY), -angle, 1.0)\n",
    "    cos = np.abs(M[0, 0])\n",
    "    sin = np.abs(M[0, 1])\n",
    "\n",
    "    # compute the new bounding dimensions of the image\n",
    "    nW = int((h * sin) + (w * cos))\n",
    "    nH = int((h * cos) + (w * sin))\n",
    "\n",
    "    # adjust the rotation matrix to take into account translation\n",
    "    M[0, 2] += (nW / 2) - cX\n",
    "    M[1, 2] += (nH / 2) - cY\n",
    "\n",
    "    # perform the actual rotation and return the image\n",
    "    return cv2.warpAffine(image, M, (nW, nH))\n",
    "\n",
    "rot_img = rotate_bound(img,45)\n",
    "plt.imshow(rot_img)\n",
    "find_center(rot_img)\n",
    "\n",
    "\n"
   ]
  },
  {
   "cell_type": "code",
   "execution_count": null,
   "id": "9a6f8348",
   "metadata": {},
   "outputs": [],
   "source": [
    "plt.imshow(cv2.flip(rot_img,1))"
   ]
  },
  {
   "cell_type": "code",
   "execution_count": null,
   "id": "340705d0",
   "metadata": {},
   "outputs": [],
   "source": [
    "right_side = img[:,find_center(img)[0]:]\n",
    "left_side = img[:,:find_center(img)[0]]\n",
    "plt.imshow(right_side)"
   ]
  },
  {
   "cell_type": "code",
   "execution_count": null,
   "id": "4ae37d9b",
   "metadata": {},
   "outputs": [],
   "source": [
    "def flip_image(image):\n",
    "    right_side = image[:,find_center(image)[0]:]\n",
    "    left_side = cv2.flip(image[:,:find_center(image)[0]],1)\n",
    "    if right_side.shape[1]>left_side.shape[1]:\n",
    "        right_side = right_side[:,:left_side.shape[1]]\n",
    "    else:\n",
    "        left_side = left_side[:,:right_side.shape[1]]\n",
    "\n",
    "    up_side = image[:find_center(image)[1],:]\n",
    "    down_side = cv2.flip(image[find_center(image)[1]:,:],0)\n",
    "    if up_side.shape[0]>down_side.shape[0]:\n",
    "        diff = int(np.abs(up_side.shape[0]-down_side.shape[0]))\n",
    "        up_side = up_side[diff:,:]\n",
    "    else:\n",
    "        diff = int(np.abs(up_side.shape[0]-down_side.shape[0]))\n",
    "        down_side = down_side[diff:,:]\n",
    "    plt.imshow(down_side)\n",
    "    print(right_side.shape,left_side.shape,up_side.shape,down_side.shape)\n",
    "\n",
    "    print(np.sum(right_side),np.sum(left_side))\n",
    "\n",
    "    dif_x,dif_y = int(np.sum(right_side-left_side)),np.abs(int(np.sum(up_side-down_side)))\n",
    "    print(dif_x)\n",
    "    plt.imshow(up_side+down_side)\n",
    "    return (dif_x+dif_y)//2\n",
    "(flip_image(img)+flip_image(rot_img))//2\n",
    "\n",
    "\n",
    "\n",
    "\n",
    "\n"
   ]
  },
  {
   "cell_type": "code",
   "execution_count": null,
   "id": "9e57037a",
   "metadata": {},
   "outputs": [],
   "source": [
    "img = \"../data/raw_data/example_segmentation/ISIC_0001769_segmentation.png\"\n",
    "def symmetry(img):\n",
    "    img = cv2.imread(img, cv2.IMREAD_GRAYSCALE)\n",
    "    img = rotate_bound(img, 0)\n",
    "    rot_img = rotate_bound(img, 45)\n",
    "    return (flip_image(img)+flip_image(rot_img))//2\n",
    "\n",
    "symmetry(img)\n"
   ]
  }
 ],
 "metadata": {
  "kernelspec": {
   "display_name": "Python 3",
   "language": "python",
   "name": "python3"
  },
  "language_info": {
   "codemirror_mode": {
    "name": "ipython",
    "version": 3
   },
   "file_extension": ".py",
   "mimetype": "text/x-python",
   "name": "python",
   "nbconvert_exporter": "python",
   "pygments_lexer": "ipython3",
   "version": "3.8.8"
  }
 },
 "nbformat": 4,
 "nbformat_minor": 5
}
