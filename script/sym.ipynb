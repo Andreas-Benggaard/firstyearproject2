{
 "cells": [
  {
   "cell_type": "code",
   "execution_count": null,
   "metadata": {},
   "outputs": [],
   "source": [
    "import sym\n",
    "\n",
    "img = \"../data/raw_data/example_segmentation/ISIC_0001769_segmentation.png\"\n",
    "sym.symmetry(img)"
   ]
  }
 ],
 "metadata": {
  "interpreter": {
   "hash": "cbb95918f63270a4f1a16592c150d3cea5ac764edb7cb8a2e73414479a0d4991"
  },
  "kernelspec": {
   "display_name": "Python 3.8.8",
   "language": "python",
   "name": "python3"
  },
  "language_info": {
   "codemirror_mode": {
    "name": "ipython",
    "version": 3
   },
   "file_extension": ".py",
   "mimetype": "text/x-python",
   "name": "python",
   "nbconvert_exporter": "python",
   "pygments_lexer": "ipython3",
   "version": "3.8.8"
  },
  "orig_nbformat": 4
 },
 "nbformat": 4,
 "nbformat_minor": 2
}
