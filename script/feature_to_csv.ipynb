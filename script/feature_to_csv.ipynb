{
 "cells": [
  {
   "cell_type": "code",
   "execution_count": null,
   "metadata": {},
   "outputs": [],
   "source": [
    "#EMMA IF SOMETHING GOES WRONG RUN THIS\n",
    "\n",
    "\n",
    "import border\n",
    "import sym\n",
    "import color\n",
    "from imp import reload\n",
    "reload(border)\n",
    "reload(sym)\n",
    "reload(color)\n",
    "from tqdm import tqdm\n",
    "import pandas as pd\n",
    "import numpy as np\n",
    "import os\n",
    "\n",
    "def load_images_from_folder(folder):\n",
    "    images_id = []\n",
    "    for filename in tqdm(os.listdir(folder)):\n",
    "        images_id.append(filename.split(\"_s\")[0])\n",
    "    return  images_id\n"
   ]
  },
  {
   "cell_type": "code",
   "execution_count": null,
   "metadata": {},
   "outputs": [],
   "source": [
    "img = '../data/raw_data/example_segmentation/ISIC_0001769_segmentation.png'\n",
    "features = border.calc_features(img)\n",
    "features"
   ]
  },
  {
   "cell_type": "code",
   "execution_count": null,
   "metadata": {},
   "outputs": [],
   "source": [
    "circularity = border.circularity(features)\n",
    "circularity"
   ]
  },
  {
   "cell_type": "code",
   "execution_count": null,
   "metadata": {},
   "outputs": [],
   "source": [
    "folder = \"../data/raw_data/example_segmentation/\"\n",
    "images_id = load_images_from_folder(folder)"
   ]
  },
  {
   "cell_type": "code",
   "execution_count": null,
   "metadata": {},
   "outputs": [],
   "source": [
    "\n",
    "folder = \"../data/raw_data/example_segmentation/\"\n",
    "\n",
    "df = pd.DataFrame()\n",
    "perimeter = []\n",
    "area = []\n",
    "img_id = []\n",
    "circularity = []\n",
    "for i in tqdm(images_id):\n",
    "    image = i + \"_segmentation.png\"\n",
    "    features = border.calc_features(folder+image)\n",
    "    cir = border.circularity(features)\n",
    "    circularity.append(cir)\n",
    "    perimeter.append(features[0])\n",
    "    area.append(features[1])\n",
    "    img_id.append(i)\n",
    "\n",
    "df[\"image_id\"] = img_id\n",
    "df[\"perimeter\"] = perimeter\n",
    "df[\"area\"] = area\n",
    "df[\"circularity\"] = circularity\n",
    "\n",
    "df"
   ]
  },
  {
   "cell_type": "code",
   "execution_count": null,
   "metadata": {},
   "outputs": [],
   "source": [
    "# Creates csv file, so we dont need to run to code above multiple times\n",
    "os.makedirs('./', exist_ok=True)  \n",
    "df.to_csv('./border.csv', index=False)  "
   ]
  },
  {
   "cell_type": "code",
   "execution_count": null,
   "metadata": {},
   "outputs": [],
   "source": [
    "folder = \"../data/raw_data/example_segmentation/\"\n",
    "\n",
    "df = pd.DataFrame()\n",
    "img_id = []\n",
    "ratio = []\n",
    "for i in tqdm(images_id):\n",
    "    image = i + \"_segmentation.png\"\n",
    "    r = sym.symmetry(folder+image)\n",
    "    ratio.append(r)\n",
    "    img_id.append(i)\n",
    "\n",
    "df[\"image_id\"] = img_id\n",
    "df[\"ratio\"] = ratio\n"
   ]
  },
  {
   "cell_type": "code",
   "execution_count": null,
   "metadata": {},
   "outputs": [],
   "source": [
    "# Creates csv file, so we dont need to run to code above multiple times\n",
    "os.makedirs('./', exist_ok=True)  \n",
    "df.to_csv('./ratio.csv', index=False)  "
   ]
  },
  {
   "cell_type": "code",
   "execution_count": null,
   "metadata": {},
   "outputs": [],
   "source": [
    "# test color function\n",
    "color.color( \"../data/raw_data/example_image/ISIC_0012547.jpg\",\"../data/raw_data/example_segmentation/ISIC_0012547_segmentation.png\")"
   ]
  },
  {
   "cell_type": "code",
   "execution_count": null,
   "metadata": {},
   "outputs": [],
   "source": [
    "# takes a long time. Only run if nesseary.\n",
    "\n",
    "mask_folder = \"../data/raw_data/example_segmentation/\"\n",
    "img_folder = \"../data/raw_data/example_image/\"\n",
    "\n",
    "df = pd.DataFrame()\n",
    "img_id = []\n",
    "color_variance = []\n",
    "color_min = []\n",
    "color_max = []\n",
    "color_median = []\n",
    "color_mean = []\n",
    "\n",
    "for i in tqdm(images_id):\n",
    "    mask_image = i + \"_segmentation.png\"\n",
    "    mask_ = mask_folder+mask_image\n",
    "    \n",
    "    img_image = i +\".jpg\"\n",
    "    img_ = img_folder+img_image\n",
    "    c = color.color(img_, mask_)\n",
    "\n",
    "    img_id.append(i)\n",
    "    color_variance.append(c[0])\n",
    "    color_min.append(c[1])\n",
    "    color_max.append(c[2])\n",
    "    color_median.append(c[3])\n",
    "    color_mean.append(c[4])\n",
    "\n",
    "\n",
    "df[\"image_id\"] = img_id\n",
    "df[\"color_variance\"] = color_variance\n",
    "df[\"color_min\"] = color_min\n",
    "df[\"color_max\"] = color_max\n",
    "df[\"color_median\"] = color_median\n",
    "df[\"color_mean\"] = color_mean\n"
   ]
  },
  {
   "cell_type": "code",
   "execution_count": null,
   "metadata": {},
   "outputs": [],
   "source": [
    "os.makedirs('./', exist_ok=True)  \n",
    "df.to_csv('./color.csv', index=False)  "
   ]
  },
  {
   "cell_type": "markdown",
   "metadata": {},
   "source": [
    "# Test data \n",
    "The 2000 images"
   ]
  },
  {
   "cell_type": "code",
   "execution_count": null,
   "metadata": {},
   "outputs": [],
   "source": [
    "#THEN THIS\n",
    "\n",
    "folder = \"../data/Task4/ISIC-2017_Training_Part1_GroundTruth/\"\n",
    "images_id = load_images_from_folder(folder)"
   ]
  },
  {
   "cell_type": "code",
   "execution_count": null,
   "metadata": {},
   "outputs": [],
   "source": [
    "folder = \"../data/Task4/ISIC-2017_Training_Part1_GroundTruth/\"\n",
    "\n",
    "df = pd.DataFrame()\n",
    "perimeter = []\n",
    "area = []\n",
    "img_id = []\n",
    "circularity = []\n",
    "for i in tqdm(images_id):\n",
    "    image = i + \"_segmentation.png\"\n",
    "    features = border.calc_features(folder+image)\n",
    "    cir = border.circularity(features)\n",
    "    circularity.append(cir)\n",
    "    perimeter.append(features[0])\n",
    "    area.append(features[1])\n",
    "    img_id.append(i)\n",
    "\n",
    "df[\"image_id\"] = img_id\n",
    "df[\"perimeter\"] = perimeter\n",
    "df[\"area\"] = area\n",
    "df[\"circularity\"] = circularity\n",
    "\n",
    "df"
   ]
  },
  {
   "cell_type": "code",
   "execution_count": null,
   "metadata": {},
   "outputs": [],
   "source": [
    "# Creates csv file, so we dont need to run to code above multiple times\n",
    "os.makedirs('./', exist_ok=True)  \n",
    "df.to_csv('./border_big.csv', index=False)  "
   ]
  },
  {
   "cell_type": "code",
   "execution_count": null,
   "metadata": {},
   "outputs": [],
   "source": [
    "folder = \"../data/Task4/ISIC-2017_Training_Part1_GroundTruth/\"\n",
    "image = \"ISIC_0013487_segmentation.png\"\n",
    "sym.symmetry(folder+image)"
   ]
  },
  {
   "cell_type": "code",
   "execution_count": null,
   "metadata": {},
   "outputs": [],
   "source": [
    "folder = \"../data/Task4/ISIC-2017_Training_Part1_GroundTruth/\"\n",
    "\n",
    "df = pd.DataFrame()\n",
    "img_id = []\n",
    "ratio = []\n",
    "for i in tqdm(images_id):\n",
    "    image = i + \"_segmentation.png\"\n",
    "    r = sym.symmetry(folder+image)\n",
    "    ratio.append(r)\n",
    "    img_id.append(i)\n",
    "\n",
    "df[\"image_id\"] = img_id\n",
    "df[\"ratio\"] = ratio"
   ]
  },
  {
   "cell_type": "code",
   "execution_count": null,
   "metadata": {},
   "outputs": [],
   "source": [
    "# Creates csv file, so we dont need to run to code above multiple times\n",
    "os.makedirs('./', exist_ok=True)  \n",
    "df.to_csv('./ratio_big.csv', index=False)  "
   ]
  },
  {
   "cell_type": "code",
   "execution_count": null,
   "metadata": {},
   "outputs": [],
   "source": [
    "#THEN THIS!\n",
    "# takes a long time. Only run if nesseary.\n",
    "\n",
    "mask_folder = \"../data/Task4/ISIC-2017_Training_Part1_GroundTruth/\"\n",
    "img_folder = \"../data/Task4/ISIC-2017_Training_Data/\"\n",
    "\n",
    "df = pd.DataFrame()\n",
    "img_id = []\n",
    "color_variance = []\n",
    "color_min = []\n",
    "color_max = []\n",
    "color_median = []\n",
    "color_mean = []\n",
    "\n",
    "for i in tqdm(images_id):\n",
    "    mask_image = i + \"_segmentation.png\"\n",
    "    mask_ = mask_folder+mask_image\n",
    "    \n",
    "    img_image = i +\".jpg\"\n",
    "    img_ = img_folder+img_image\n",
    "    c = color.color(img_, mask_)\n",
    "\n",
    "    img_id.append(i)\n",
    "    color_variance.append(c[0])\n",
    "    color_min.append(c[1])\n",
    "    color_max.append(c[2])\n",
    "    color_median.append(c[3])\n",
    "    color_mean.append(c[4])\n",
    "\n",
    "\n",
    "df[\"image_id\"] = img_id\n",
    "df[\"color_variance\"] = color_variance\n",
    "df[\"color_min\"] = color_min\n",
    "df[\"color_max\"] = color_max\n",
    "df[\"color_median\"] = color_median\n",
    "df[\"color_mean\"] = color_mean\n",
    "# Creates csv file, so we dont need to run to code above multiple times\n",
    "os.makedirs('./', exist_ok=True)  \n",
    "df.to_csv('./color_big.csv', index=False) "
   ]
  }
 ],
 "metadata": {
  "interpreter": {
   "hash": "40d3a090f54c6569ab1632332b64b2c03c39dcf918b08424e98f38b5ae0af88f"
  },
  "kernelspec": {
   "display_name": "Python 3.8.8 ('base')",
   "language": "python",
   "name": "python3"
  },
  "language_info": {
   "codemirror_mode": {
    "name": "ipython",
    "version": 3
   },
   "file_extension": ".py",
   "mimetype": "text/x-python",
   "name": "python",
   "nbconvert_exporter": "python",
   "pygments_lexer": "ipython3",
   "version": "3.8.8"
  },
  "orig_nbformat": 4
 },
 "nbformat": 4,
 "nbformat_minor": 2
}
