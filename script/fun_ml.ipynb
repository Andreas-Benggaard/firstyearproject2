{
 "cells": [
  {
   "cell_type": "code",
   "execution_count": 18,
   "metadata": {},
   "outputs": [],
   "source": [
    "import matplotlib.pyplot as plt\n",
    "import numpy as np\n",
    "import os\n",
    "import PIL\n",
    "import tensorflow as tf\n",
    "from tqdm import tqdm\n",
    "from tensorflow import keras\n",
    "from tensorflow.keras import layers\n",
    "from tensorflow.keras.models import Sequential\n",
    "import pandas as pd"
   ]
  },
  {
   "cell_type": "code",
   "execution_count": 19,
   "metadata": {},
   "outputs": [],
   "source": [
    "import os\n",
    "\n",
    "def load_images_from_folder(folder):\n",
    "    images_id = []\n",
    "    for filename in tqdm(os.listdir(folder)):\n",
    "        if filename.endswith(\".jpg\"):\n",
    "            images_id.append(filename)\n",
    "    return  images_id"
   ]
  },
  {
   "cell_type": "code",
   "execution_count": null,
   "metadata": {},
   "outputs": [],
   "source": [
    "from PIL import Image \n",
    "\n",
    "folder = \"../data/raw_data/example_image/\"\n",
    "images_id = load_images_from_folder(folder)\n",
    "file_truth = \"../data/raw_data/example_ground_truth.csv\"\n",
    "df_truth = pd.read_csv(file_truth)\n",
    "df = df_truth.drop([\"seborrheic_keratosis\"],axis=1)\n",
    "\n",
    "for img_id in tqdm(images_id):\n",
    "    id_ = img_id.split(\".\")[0]\n",
    "    cancer = df.loc[df['image_id'] == id_]\n",
    "    cancer = int(cancer[\"melanoma\"])\n",
    "    picture = Image.open(folder+img_id)  \n",
    "    if cancer == 0:\n",
    "        picture.save(\"../data/fun_ml/no_c/\"+img_id) \n",
    "    else:\n",
    "        picture.save(\"../data/fun_ml/c/\"+img_id) "
   ]
  },
  {
   "cell_type": "markdown",
   "metadata": {},
   "source": [
    "# ML part\n",
    "Follows the tutorial from https://www.tensorflow.org/tutorials/images/classification"
   ]
  },
  {
   "cell_type": "markdown",
   "metadata": {},
   "source": [
    "# Create a dataset"
   ]
  },
  {
   "cell_type": "code",
   "execution_count": 20,
   "metadata": {},
   "outputs": [
    {
     "name": "stdout",
     "output_type": "stream",
     "text": [
      "Found 2000 files belonging to 2 classes.\n",
      "Using 1600 files for training.\n"
     ]
    }
   ],
   "source": [
    "batch_size = 32\n",
    "img_height = 180\n",
    "img_width = 180\n",
    "folder = \"../data/fun_ml\"\n",
    "train_ds = tf.keras.utils.image_dataset_from_directory(\n",
    "  folder,\n",
    "  validation_split=0.2,\n",
    "  subset=\"training\",\n",
    "  seed=123,\n",
    "  image_size=(img_height, img_width),\n",
    "  batch_size=batch_size)"
   ]
  },
  {
   "cell_type": "code",
   "execution_count": 21,
   "metadata": {},
   "outputs": [
    {
     "name": "stdout",
     "output_type": "stream",
     "text": [
      "Found 2000 files belonging to 2 classes.\n",
      "Using 400 files for validation.\n"
     ]
    }
   ],
   "source": [
    "val_ds = tf.keras.utils.image_dataset_from_directory(\n",
    "  folder,\n",
    "  validation_split=0.2,\n",
    "  subset=\"validation\",\n",
    "  seed=123,\n",
    "  image_size=(img_height, img_width),\n",
    "  batch_size=batch_size)"
   ]
  },
  {
   "cell_type": "code",
   "execution_count": 22,
   "metadata": {},
   "outputs": [
    {
     "name": "stdout",
     "output_type": "stream",
     "text": [
      "['c', 'no_c']\n"
     ]
    }
   ],
   "source": [
    "class_names = train_ds.class_names\n",
    "print(class_names)"
   ]
  },
  {
   "cell_type": "markdown",
   "metadata": {},
   "source": [
    "# Create the model"
   ]
  },
  {
   "cell_type": "code",
   "execution_count": 23,
   "metadata": {},
   "outputs": [],
   "source": [
    "num_classes = len(class_names)\n",
    "\n",
    "model = Sequential([\n",
    "  layers.Rescaling(1./255, input_shape=(img_height, img_width, 3)),\n",
    "  layers.Conv2D(16, 3, padding='same', activation='relu'),\n",
    "  layers.MaxPooling2D(),\n",
    "  layers.Conv2D(32, 3, padding='same', activation='relu'),\n",
    "  layers.MaxPooling2D(),\n",
    "  layers.Conv2D(64, 3, padding='same', activation='relu'),\n",
    "  layers.MaxPooling2D(),\n",
    "  layers.Flatten(),\n",
    "  layers.Dense(128, activation='relu'),\n",
    "  layers.Dense(num_classes)\n",
    "])"
   ]
  },
  {
   "cell_type": "markdown",
   "metadata": {},
   "source": [
    "# Compile the model"
   ]
  },
  {
   "cell_type": "code",
   "execution_count": 24,
   "metadata": {},
   "outputs": [],
   "source": [
    "model.compile(optimizer='adam',\n",
    "              loss=tf.keras.losses.SparseCategoricalCrossentropy(from_logits=True),\n",
    "              metrics=['accuracy'])"
   ]
  },
  {
   "cell_type": "markdown",
   "metadata": {},
   "source": [
    "## Model summary"
   ]
  },
  {
   "cell_type": "code",
   "execution_count": 25,
   "metadata": {},
   "outputs": [
    {
     "name": "stdout",
     "output_type": "stream",
     "text": [
      "Model: \"sequential_3\"\n",
      "_________________________________________________________________\n",
      " Layer (type)                Output Shape              Param #   \n",
      "=================================================================\n",
      " rescaling_2 (Rescaling)     (None, 180, 180, 3)       0         \n",
      "                                                                 \n",
      " conv2d_6 (Conv2D)           (None, 180, 180, 16)      448       \n",
      "                                                                 \n",
      " max_pooling2d_6 (MaxPooling  (None, 90, 90, 16)       0         \n",
      " 2D)                                                             \n",
      "                                                                 \n",
      " conv2d_7 (Conv2D)           (None, 90, 90, 32)        4640      \n",
      "                                                                 \n",
      " max_pooling2d_7 (MaxPooling  (None, 45, 45, 32)       0         \n",
      " 2D)                                                             \n",
      "                                                                 \n",
      " conv2d_8 (Conv2D)           (None, 45, 45, 64)        18496     \n",
      "                                                                 \n",
      " max_pooling2d_8 (MaxPooling  (None, 22, 22, 64)       0         \n",
      " 2D)                                                             \n",
      "                                                                 \n",
      " flatten_2 (Flatten)         (None, 30976)             0         \n",
      "                                                                 \n",
      " dense_4 (Dense)             (None, 128)               3965056   \n",
      "                                                                 \n",
      " dense_5 (Dense)             (None, 2)                 258       \n",
      "                                                                 \n",
      "=================================================================\n",
      "Total params: 3,988,898\n",
      "Trainable params: 3,988,898\n",
      "Non-trainable params: 0\n",
      "_________________________________________________________________\n"
     ]
    }
   ],
   "source": [
    "model.summary()"
   ]
  },
  {
   "cell_type": "markdown",
   "metadata": {},
   "source": [
    "# Train the model"
   ]
  },
  {
   "cell_type": "code",
   "execution_count": 26,
   "metadata": {},
   "outputs": [
    {
     "name": "stdout",
     "output_type": "stream",
     "text": [
      "Epoch 1/10\n",
      "50/50 [==============================] - 99s 2s/step - loss: 0.5539 - accuracy: 0.8087 - val_loss: 0.4693 - val_accuracy: 0.8275\n",
      "Epoch 2/10\n",
      "50/50 [==============================] - ETA: 0s - loss: 0.4800 - accuracy: 0.8112"
     ]
    },
    {
     "name": "stderr",
     "output_type": "stream",
     "text": [
      "2022-04-07 16:00:41.359086: I tensorflow/core/kernels/data/shuffle_dataset_op.cc:390] Filling up shuffle buffer (this may take a while): 254 of 256\n",
      "2022-04-07 16:00:41.589411: I tensorflow/core/kernels/data/shuffle_dataset_op.cc:415] Shuffle buffer filled.\n"
     ]
    },
    {
     "name": "stdout",
     "output_type": "stream",
     "text": [
      "50/50 [==============================] - 98s 2s/step - loss: 0.4800 - accuracy: 0.8112 - val_loss: 0.4509 - val_accuracy: 0.8275\n",
      "Epoch 3/10\n",
      "50/50 [==============================] - 89s 2s/step - loss: 0.4743 - accuracy: 0.8119 - val_loss: 0.5147 - val_accuracy: 0.8275\n",
      "Epoch 4/10\n",
      "50/50 [==============================] - 90s 2s/step - loss: 0.4725 - accuracy: 0.8131 - val_loss: 0.4405 - val_accuracy: 0.8275\n",
      "Epoch 5/10\n",
      "50/50 [==============================] - 92s 2s/step - loss: 0.4542 - accuracy: 0.8150 - val_loss: 0.4553 - val_accuracy: 0.8275\n",
      "Epoch 6/10\n",
      "50/50 [==============================] - 92s 2s/step - loss: 0.4482 - accuracy: 0.8181 - val_loss: 0.4962 - val_accuracy: 0.8275\n",
      "Epoch 7/10\n",
      "50/50 [==============================] - 91s 2s/step - loss: 0.4440 - accuracy: 0.8225 - val_loss: 0.4610 - val_accuracy: 0.8350\n",
      "Epoch 8/10\n",
      "50/50 [==============================] - 87s 2s/step - loss: 0.4279 - accuracy: 0.8244 - val_loss: 0.4757 - val_accuracy: 0.8225\n",
      "Epoch 9/10\n",
      "50/50 [==============================] - 92s 2s/step - loss: 0.4082 - accuracy: 0.8319 - val_loss: 0.4722 - val_accuracy: 0.8175\n",
      "Epoch 10/10\n",
      "50/50 [==============================] - 88s 2s/step - loss: 0.3963 - accuracy: 0.8331 - val_loss: 0.5235 - val_accuracy: 0.8250\n"
     ]
    }
   ],
   "source": [
    "epochs=10\n",
    "history = model.fit(\n",
    "  train_ds,\n",
    "  validation_data=val_ds,\n",
    "  epochs=epochs\n",
    ")"
   ]
  },
  {
   "cell_type": "markdown",
   "metadata": {},
   "source": [
    "# Visualize training results\n"
   ]
  },
  {
   "cell_type": "code",
   "execution_count": 27,
   "metadata": {},
   "outputs": [
    {
     "name": "stdout",
     "output_type": "stream",
     "text": [
      "[0.8274999856948853, 0.8274999856948853, 0.8274999856948853, 0.8274999856948853, 0.8274999856948853, 0.8274999856948853, 0.8349999785423279, 0.8224999904632568, 0.8174999952316284, 0.824999988079071]\n"
     ]
    },
    {
     "data": {
      "image/png": "[encoded data removed]",
      "text/plain": [
       "<Figure size 576x576 with 2 Axes>"
      ]
     },
     "metadata": {
      "needs_background": "light"
     },
     "output_type": "display_data"
    }
   ],
   "source": [
    "acc = history.history['accuracy']\n",
    "val_acc = history.history['val_accuracy']\n",
    "\n",
    "print(val_acc)\n",
    "loss = history.history['loss']\n",
    "val_loss = history.history['val_loss']\n",
    "\n",
    "epochs_range = range(epochs)\n",
    "\n",
    "plt.figure(figsize=(8, 8))\n",
    "plt.subplot(1, 2, 1)\n",
    "plt.plot(epochs_range, acc, label='Training Accuracy')\n",
    "plt.plot(epochs_range, val_acc, label='Validation Accuracy')\n",
    "plt.legend(loc='lower right')\n",
    "plt.title('Training and Validation Accuracy')\n",
    "\n",
    "plt.subplot(1, 2, 2)\n",
    "plt.plot(epochs_range, loss, label='Training Loss')\n",
    "plt.plot(epochs_range, val_loss, label='Validation Loss')\n",
    "plt.legend(loc='upper right')\n",
    "plt.title('Training and Validation Loss')\n",
    "plt.show()"
   ]
  },
  {
   "cell_type": "markdown",
   "metadata": {},
   "source": [
    "# Overfitting\n",
    "## Data augmentation"
   ]
  },
  {
   "cell_type": "code",
   "execution_count": 28,
   "metadata": {},
   "outputs": [],
   "source": [
    "data_augmentation = keras.Sequential(\n",
    "  [\n",
    "    layers.RandomFlip(\"horizontal\",\n",
    "                      input_shape=(img_height,\n",
    "                                  img_width,\n",
    "                                  3)),\n",
    "    layers.RandomRotation(0.1),\n",
    "    layers.RandomZoom(0.1),\n",
    "  ]\n",
    ")"
   ]
  },
  {
   "cell_type": "markdown",
   "metadata": {},
   "source": [
    "## Dropout"
   ]
  },
  {
   "cell_type": "code",
   "execution_count": 29,
   "metadata": {},
   "outputs": [],
   "source": [
    "model = Sequential([\n",
    "  data_augmentation,\n",
    "  layers.Rescaling(1./255),\n",
    "  layers.Conv2D(16, 3, padding='same', activation='relu'),\n",
    "  layers.MaxPooling2D(),\n",
    "  layers.Conv2D(32, 3, padding='same', activation='relu'),\n",
    "  layers.MaxPooling2D(),\n",
    "  layers.Conv2D(64, 3, padding='same', activation='relu'),\n",
    "  layers.MaxPooling2D(),\n",
    "  layers.Dropout(0.2),\n",
    "  layers.Flatten(),\n",
    "  layers.Dense(128, activation='relu'),\n",
    "  layers.Dense(num_classes)\n",
    "])"
   ]
  },
  {
   "cell_type": "markdown",
   "metadata": {},
   "source": [
    "## Compile and train the model"
   ]
  },
  {
   "cell_type": "code",
   "execution_count": 30,
   "metadata": {},
   "outputs": [],
   "source": [
    "model.compile(optimizer='adam',\n",
    "              loss=tf.keras.losses.SparseCategoricalCrossentropy(from_logits=True),\n",
    "              metrics=['accuracy'])"
   ]
  },
  {
   "cell_type": "code",
   "execution_count": 31,
   "metadata": {},
   "outputs": [
    {
     "name": "stdout",
     "output_type": "stream",
     "text": [
      "Model: \"sequential_5\"\n",
      "_________________________________________________________________\n",
      " Layer (type)                Output Shape              Param #   \n",
      "=================================================================\n",
      " sequential_4 (Sequential)   (None, 180, 180, 3)       0         \n",
      "                                                                 \n",
      " rescaling_3 (Rescaling)     (None, 180, 180, 3)       0         \n",
      "                                                                 \n",
      " conv2d_9 (Conv2D)           (None, 180, 180, 16)      448       \n",
      "                                                                 \n",
      " max_pooling2d_9 (MaxPooling  (None, 90, 90, 16)       0         \n",
      " 2D)                                                             \n",
      "                                                                 \n",
      " conv2d_10 (Conv2D)          (None, 90, 90, 32)        4640      \n",
      "                                                                 \n",
      " max_pooling2d_10 (MaxPoolin  (None, 45, 45, 32)       0         \n",
      " g2D)                                                            \n",
      "                                                                 \n",
      " conv2d_11 (Conv2D)          (None, 45, 45, 64)        18496     \n",
      "                                                                 \n",
      " max_pooling2d_11 (MaxPoolin  (None, 22, 22, 64)       0         \n",
      " g2D)                                                            \n",
      "                                                                 \n",
      " dropout_1 (Dropout)         (None, 22, 22, 64)        0         \n",
      "                                                                 \n",
      " flatten_3 (Flatten)         (None, 30976)             0         \n",
      "                                                                 \n",
      " dense_6 (Dense)             (None, 128)               3965056   \n",
      "                                                                 \n",
      " dense_7 (Dense)             (None, 2)                 258       \n",
      "                                                                 \n",
      "=================================================================\n",
      "Total params: 3,988,898\n",
      "Trainable params: 3,988,898\n",
      "Non-trainable params: 0\n",
      "_________________________________________________________________\n"
     ]
    }
   ],
   "source": [
    "model.summary()"
   ]
  },
  {
   "cell_type": "code",
   "execution_count": 32,
   "metadata": {},
   "outputs": [
    {
     "name": "stdout",
     "output_type": "stream",
     "text": [
      "Epoch 1/15\n",
      "50/50 [==============================] - 98s 2s/step - loss: 0.5506 - accuracy: 0.8012 - val_loss: 0.4546 - val_accuracy: 0.8275\n",
      "Epoch 2/15\n",
      "50/50 [==============================] - 95s 2s/step - loss: 0.4830 - accuracy: 0.8087 - val_loss: 0.4508 - val_accuracy: 0.8275\n",
      "Epoch 3/15\n",
      "50/50 [==============================] - 96s 2s/step - loss: 0.4843 - accuracy: 0.8100 - val_loss: 0.4687 - val_accuracy: 0.8275\n",
      "Epoch 4/15\n",
      "50/50 [==============================] - 95s 2s/step - loss: 0.4768 - accuracy: 0.8100 - val_loss: 0.4551 - val_accuracy: 0.8300\n",
      "Epoch 5/15\n",
      "50/50 [==============================] - 96s 2s/step - loss: 0.4797 - accuracy: 0.8125 - val_loss: 0.4812 - val_accuracy: 0.8275\n",
      "Epoch 6/15\n",
      "50/50 [==============================] - 112s 2s/step - loss: 0.4883 - accuracy: 0.8125 - val_loss: 0.4412 - val_accuracy: 0.8250\n",
      "Epoch 7/15\n"
     ]
    },
    {
     "name": "stderr",
     "output_type": "stream",
     "text": [
      "2022-04-07 16:22:54.299739: I tensorflow/core/kernels/data/shuffle_dataset_op.cc:390] Filling up shuffle buffer (this may take a while): 253 of 256\n",
      "2022-04-07 16:22:54.553126: I tensorflow/core/kernels/data/shuffle_dataset_op.cc:415] Shuffle buffer filled.\n"
     ]
    },
    {
     "name": "stdout",
     "output_type": "stream",
     "text": [
      "50/50 [==============================] - 95s 2s/step - loss: 0.4740 - accuracy: 0.8138 - val_loss: 0.4475 - val_accuracy: 0.8275\n",
      "Epoch 8/15\n",
      "50/50 [==============================] - 91s 2s/step - loss: 0.4864 - accuracy: 0.8138 - val_loss: 0.4485 - val_accuracy: 0.8300\n",
      "Epoch 9/15\n",
      "50/50 [==============================] - 87s 2s/step - loss: 0.4784 - accuracy: 0.8131 - val_loss: 0.4546 - val_accuracy: 0.8300\n",
      "Epoch 10/15\n",
      "50/50 [==============================] - 88s 2s/step - loss: 0.4724 - accuracy: 0.8131 - val_loss: 0.4577 - val_accuracy: 0.8300\n",
      "Epoch 11/15\n",
      "50/50 [==============================] - 109s 2s/step - loss: 0.4694 - accuracy: 0.8131 - val_loss: 0.4526 - val_accuracy: 0.8300\n",
      "Epoch 12/15\n",
      "50/50 [==============================] - 98s 2s/step - loss: 0.4676 - accuracy: 0.8138 - val_loss: 0.4634 - val_accuracy: 0.8200\n",
      "Epoch 13/15\n",
      "50/50 [==============================] - 90s 2s/step - loss: 0.4682 - accuracy: 0.8125 - val_loss: 0.4413 - val_accuracy: 0.8275\n",
      "Epoch 14/15\n",
      "50/50 [==============================] - 90s 2s/step - loss: 0.4590 - accuracy: 0.8144 - val_loss: 0.4601 - val_accuracy: 0.8275\n",
      "Epoch 15/15\n",
      "50/50 [==============================] - 114s 2s/step - loss: 0.4828 - accuracy: 0.8112 - val_loss: 0.5415 - val_accuracy: 0.8250\n"
     ]
    }
   ],
   "source": [
    "epochs = 15\n",
    "history = model.fit(\n",
    "  train_ds,\n",
    "  validation_data=val_ds,\n",
    "  epochs=epochs\n",
    ")"
   ]
  },
  {
   "cell_type": "markdown",
   "metadata": {},
   "source": [
    "## Visualize training results"
   ]
  },
  {
   "cell_type": "code",
   "execution_count": 33,
   "metadata": {},
   "outputs": [
    {
     "data": {
      "image/png": "[encoded data removed]",
      "text/plain": [
       "<Figure size 576x576 with 2 Axes>"
      ]
     },
     "metadata": {
      "needs_background": "light"
     },
     "output_type": "display_data"
    }
   ],
   "source": [
    "acc = history.history['accuracy']\n",
    "val_acc = history.history['val_accuracy']\n",
    "\n",
    "loss = history.history['loss']\n",
    "val_loss = history.history['val_loss']\n",
    "\n",
    "epochs_range = range(epochs)\n",
    "\n",
    "plt.figure(figsize=(8, 8))\n",
    "plt.subplot(1, 2, 1)\n",
    "plt.plot(epochs_range, acc, label='Training Accuracy')\n",
    "plt.plot(epochs_range, val_acc, label='Validation Accuracy')\n",
    "plt.legend(loc='lower right')\n",
    "plt.title('Training and Validation Accuracy')\n",
    "\n",
    "plt.subplot(1, 2, 2)\n",
    "plt.plot(epochs_range, loss, label='Training Loss')\n",
    "plt.plot(epochs_range, val_loss, label='Validation Loss')\n",
    "plt.legend(loc='upper right')\n",
    "plt.title('Training and Validation Loss')\n",
    "plt.show()"
   ]
  },
  {
   "cell_type": "markdown",
   "metadata": {},
   "source": [
    "# Predict on new data"
   ]
  },
  {
   "cell_type": "code",
   "execution_count": 34,
   "metadata": {},
   "outputs": [
    {
     "name": "stdout",
     "output_type": "stream",
     "text": [
      "This image most likely belongs to no_c with a 62.57 percent confidence.\n"
     ]
    }
   ],
   "source": [
    "\n",
    "# if image from web\n",
    "url = \"https://boernenesverden.dk/wp-content/uploads/2019/11/Moderm%C3%A6rker-hos-b%C3%B8rn-370x246.jpg\" # should not be image from training data\n",
    "path = tf.keras.utils.get_file('img', origin=url)\n",
    "\n",
    "# if image on pc\n",
    "# path = \"../data/raw_data/example_image/ISIC_0001769.jpg\" # should not be image from training dataset\n",
    "\n",
    "img = tf.keras.utils.load_img(\n",
    "    path, target_size=(img_height, img_width)\n",
    ")\n",
    "img_array = tf.keras.utils.img_to_array(img)\n",
    "img_array = tf.expand_dims(img_array, 0) # Create a batch\n",
    "\n",
    "predictions = model.predict(img_array)\n",
    "score = tf.nn.softmax(predictions[0])\n",
    "\n",
    "print(\n",
    "    \"This image most likely belongs to {} with a {:.2f} percent confidence.\"\n",
    "    .format(class_names[np.argmax(score)], 100 * np.max(score))\n",
    ")"
   ]
  }
 ],
 "metadata": {
  "interpreter": {
   "hash": "40d3a090f54c6569ab1632332b64b2c03c39dcf918b08424e98f38b5ae0af88f"
  },
  "kernelspec": {
   "display_name": "Python 3.8.8 ('base')",
   "language": "python",
   "name": "python3"
  },
  "language_info": {
   "codemirror_mode": {
    "name": "ipython",
    "version": 3
   },
   "file_extension": ".py",
   "mimetype": "text/x-python",
   "name": "python",
   "nbconvert_exporter": "python",
   "pygments_lexer": "ipython3",
   "version": "3.8.8"
  },
  "orig_nbformat": 4
 },
 "nbformat": 4,
 "nbformat_minor": 2
}
