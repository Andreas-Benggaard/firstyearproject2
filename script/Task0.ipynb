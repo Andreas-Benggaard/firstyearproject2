{
 "cells": [
  {
   "cell_type": "code",
   "execution_count": null,
   "id": "060aa878-3e43-49c5-a497-bd8c4737c97b",
   "metadata": {},
   "outputs": [],
   "source": [
    "import pandas as pd                                                            # used to provide major datastructure pd.DataFrame() to store the datasets\n",
    "import numpy as np                                                             # used for numerical calculations and fast array manipulations\n",
    "import folium                                                                  # used for spatial data visualizations\n",
    "import json                                                                    # used for loading json data correctly\n",
    "import statsmodels.api as sm                                                   # used to run multivariate linear regression\n",
    "from scipy.stats import pearsonr, spearmanr                                    # used to run 'pearson' and 'spearman' association tests of numerical variables on two variables\n",
    "from statsmodels.stats.multitest import multipletests                          # used to run multiple tests of p-values for multiple variables\n",
    "import matplotlib.pyplot as plt\n",
    "from IPython.display import Markdown, display                                  # used to print stuff with markdown/HTML formatting for bold text and colored text\n",
    "def printmd(string):\n",
    "    display(Markdown(string))"
   ]
  },
  {
   "cell_type": "markdown",
   "id": "d06c9542-18d7-463e-96c1-98fb21f8218b",
   "metadata": {},
   "source": [
    "Task 0"
   ]
  },
  {
   "cell_type": "code",
   "execution_count": null,
   "id": "49f6d385-fa06-4bcd-ba0b-676157889136",
   "metadata": {},
   "outputs": [],
   "source": [
    "data_truth = pd.read_csv(\"../data/raw_data/example_ground_truth.csv\")\n",
    "data_truth"
   ]
  },
  {
   "cell_type": "code",
   "execution_count": null,
   "id": "f3ce2f3d-34f3-49ad-b725-813f4677b745",
   "metadata": {},
   "outputs": [],
   "source": [
    "data_truth['melanoma'].value_counts()"
   ]
  },
  {
   "cell_type": "code",
   "execution_count": null,
   "id": "5767394b-cc4a-4a68-aa93-e04f01641c7a",
   "metadata": {},
   "outputs": [],
   "source": [
    "data_truth['seborrheic_keratosis'].value_counts()"
   ]
  },
  {
   "cell_type": "code",
   "execution_count": null,
   "id": "a545d9a1-9983-4290-bfaf-3f486ad47379",
   "metadata": {},
   "outputs": [],
   "source": [
    "data_grouped = pd.read_csv(\"../data/ourData/ISIC-2017_Training_Data_metadata.csv\")\n",
    "data_grouped"
   ]
  },
  {
   "cell_type": "code",
   "execution_count": null,
   "id": "95ddc96c-8e67-4683-a801-b206220ebf05",
   "metadata": {},
   "outputs": [],
   "source": [
    "data_grouped['sex'].value_counts()"
   ]
  },
  {
   "cell_type": "code",
   "execution_count": null,
   "id": "ddd97950-38fa-40c5-bfc5-f5917b229d5f",
   "metadata": {},
   "outputs": [],
   "source": [
    "data_grouped['age_approximate'].value_counts()"
   ]
  },
  {
   "cell_type": "markdown",
   "id": "fa179a64-fe94-4bf7-86c9-77bd97f9cfac",
   "metadata": {},
   "source": [
    "The meta data provides the diagnosises based on ex. age, and sex.\n",
    "The meta data for melanoma contains 2000 images. There's 229 missing data for sex. For age there's 256 missing data.\n",
    "\n",
    "A problem with some of the images is that the image doesn't include the entire skin lesion, which makes it difficult to detect ABC. This is evident in ex. ISIC_0014212.jpg.\n",
    "\n",
    "There's also images of low quality, such as ISIC_0015445.jpg, however this does not effect our slgorithm, as we use the mask as our main tool, and it allows our color code to run faster thorugh the images.  "
   ]
  },
  {
   "cell_type": "code",
   "execution_count": null,
   "id": "6e7ee0bd",
   "metadata": {},
   "outputs": [],
   "source": []
  },
  {
   "cell_type": "code",
   "execution_count": null,
   "id": "30f07773-c6d9-4ee5-afdd-268dafa44ffe",
   "metadata": {},
   "outputs": [],
   "source": []
  }
 ],
 "metadata": {
  "kernelspec": {
   "display_name": "Python 3",
   "language": "python",
   "name": "python3"
  },
  "language_info": {
   "codemirror_mode": {
    "name": "ipython",
    "version": 3
   },
   "file_extension": ".py",
   "mimetype": "text/x-python",
   "name": "python",
   "nbconvert_exporter": "python",
   "pygments_lexer": "ipython3",
   "version": "3.8.8"
  }
 },
 "nbformat": 4,
 "nbformat_minor": 5
}
