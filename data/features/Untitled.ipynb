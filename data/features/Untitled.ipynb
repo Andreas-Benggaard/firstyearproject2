{
 "cells": [
  {
   "cell_type": "code",
   "execution_count": null,
   "id": "060aa878-3e43-49c5-a497-bd8c4737c97b",
   "metadata": {},
   "outputs": [],
   "source": [
    "import pandas as pd                                                            # used to provide major datastructure pd.DataFrame() to store the datasets\n",
    "import numpy as np                                                             # used for numerical calculations and fast array manipulations\n",
    "import folium                                                                  # used for spatial data visualizations\n",
    "import json                                                                    # used for loading json data correctly\n",
    "import statsmodels.api as sm                                                   # used to run multivariate linear regression\n",
    "from scipy.stats import pearsonr, spearmanr                                    # used to run 'pearson' and 'spearman' association tests of numerical variables on two variables\n",
    "from statsmodels.stats.multitest import multipletests                          # used to run multiple tests of p-values for multiple variables\n",
    "import matplotlib.pyplot as plt\n",
    "from IPython.display import Markdown, display                                  # used to print stuff with markdown/HTML formatting for bold text and colored text\n",
    "def printmd(string):\n",
    "    display(Markdown(string))"
   ]
  },
  {
   "cell_type": "markdown",
   "id": "d06c9542-18d7-463e-96c1-98fb21f8218b",
   "metadata": {},
   "source": [
    "Task 0"
   ]
  },
  {
   "cell_type": "code",
   "execution_count": null,
   "id": "49f6d385-fa06-4bcd-ba0b-676157889136",
   "metadata": {},
   "outputs": [],
   "source": [
    "data_truth = pd.read_csv(\"../../data/raw_data/example_ground_truth.csv\")\n",
    "data_truth"
   ]
  },
  {
   "cell_type": "code",
   "execution_count": null,
   "id": "f3ce2f3d-34f3-49ad-b725-813f4677b745",
   "metadata": {},
   "outputs": [],
   "source": [
    "data_truth['melanoma'].value_counts()"
   ]
  },
  {
   "cell_type": "code",
   "execution_count": null,
   "id": "5767394b-cc4a-4a68-aa93-e04f01641c7a",
   "metadata": {},
   "outputs": [],
   "source": [
    "data_truth['seborrheic_keratosis'].value_counts()"
   ]
  },
  {
   "cell_type": "code",
   "execution_count": null,
   "id": "10cae60a-1276-45f2-851e-93977caafa64",
   "metadata": {},
   "outputs": [],
   "source": [
    "#Don't know if this is useful, but the challenge said 'if there in one class and/or other class'\n",
    "\n",
    "same=['seborrheic_keratosis']==['melanoma']\n",
    "print('There are some same values:', same)\n",
    "notsame=['seborrheic_keratosis']!=['melanoma']\n",
    "print('There are no same values:', notsame)"
   ]
  },
  {
   "cell_type": "markdown",
   "id": "fa179a64-fe94-4bf7-86c9-77bd97f9cfac",
   "metadata": {},
   "source": [
    "The meta data provides the diagnosises *in terms of*/*based on* ex. age, and sex.\n",
    "The meta data for melanoma contains 5734 images. Only 5601 participant are divided into sexes, and therefore there's 133 missing data for sex.\n",
    "\n",
    "NOT SURE ABOUT THIS.\n",
    "It's not mandatory for all participants in this research to be checked for all diagnosises. That could explain why there are more ages recorded than cases of melanoma \n",
    "\n",
    "A problem with some of the images is that the image doesn't include the entire skin lesion, which makes it *hard/inaccurate* to detect ABC. This is evident in ex. ISIC_0014212.jpg.\n",
    "\n",
    "There's also images of low quality, such as ISIC_0015445.jpg. *THIS DOESN'T MAKE A DIFFERENCE AFTER CONVERTED TO BLACK AND WHITE? BUT COULD MAKE ARE \"HUMAN\" EVALUTION WORSE.*"
   ]
  },
  {
   "cell_type": "code",
   "execution_count": null,
   "id": "30f07773-c6d9-4ee5-afdd-268dafa44ffe",
   "metadata": {},
   "outputs": [],
   "source": []
  }
 ],
 "metadata": {
  "kernelspec": {
   "display_name": "Python 3",
   "language": "python",
   "name": "python3"
  },
  "language_info": {
   "codemirror_mode": {
    "name": "ipython",
    "version": 3
   },
   "file_extension": ".py",
   "mimetype": "text/x-python",
   "name": "python",
   "nbconvert_exporter": "python",
   "pygments_lexer": "ipython3",
   "version": "3.8.8"
  }
 },
 "nbformat": 4,
 "nbformat_minor": 5
}
