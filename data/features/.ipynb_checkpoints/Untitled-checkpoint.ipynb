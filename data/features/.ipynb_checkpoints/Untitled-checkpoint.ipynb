{
 "cells": [
  {
   "cell_type": "code",
   "execution_count": 18,
   "id": "060aa878-3e43-49c5-a497-bd8c4737c97b",
   "metadata": {},
   "outputs": [],
   "source": [
    "import pandas as pd                                                            # used to provide major datastructure pd.DataFrame() to store the datasets\n",
    "import numpy as np                                                             # used for numerical calculations and fast array manipulations\n",
    "import folium                                                                  # used for spatial data visualizations\n",
    "import json                                                                    # used for loading json data correctly\n",
    "import statsmodels.api as sm                                                   # used to run multivariate linear regression\n",
    "from scipy.stats import pearsonr, spearmanr                                    # used to run 'pearson' and 'spearman' association tests of numerical variables on two variables\n",
    "from statsmodels.stats.multitest import multipletests                          # used to run multiple tests of p-values for multiple variables\n",
    "import matplotlib.pyplot as plt\n",
    "from IPython.display import Markdown, display                                  # used to print stuff with markdown/HTML formatting for bold text and colored text\n",
    "def printmd(string):\n",
    "    display(Markdown(string))"
   ]
  },
  {
   "cell_type": "markdown",
   "id": "d06c9542-18d7-463e-96c1-98fb21f8218b",
   "metadata": {},
   "source": [
    "Task 0"
   ]
  },
  {
   "cell_type": "code",
   "execution_count": 27,
   "id": "49f6d385-fa06-4bcd-ba0b-676157889136",
   "metadata": {},
   "outputs": [
    {
     "data": {
      "text/html": [
       "<div>\n",
       "<style scoped>\n",
       "    .dataframe tbody tr th:only-of-type {\n",
       "        vertical-align: middle;\n",
       "    }\n",
       "\n",
       "    .dataframe tbody tr th {\n",
       "        vertical-align: top;\n",
       "    }\n",
       "\n",
       "    .dataframe thead th {\n",
       "        text-align: right;\n",
       "    }\n",
       "</style>\n",
       "<table border=\"1\" class=\"dataframe\">\n",
       "  <thead>\n",
       "    <tr style=\"text-align: right;\">\n",
       "      <th></th>\n",
       "      <th>image_id</th>\n",
       "      <th>melanoma</th>\n",
       "      <th>seborrheic_keratosis</th>\n",
       "    </tr>\n",
       "  </thead>\n",
       "  <tbody>\n",
       "    <tr>\n",
       "      <th>0</th>\n",
       "      <td>ISIC_0001769</td>\n",
       "      <td>0.0</td>\n",
       "      <td>0.0</td>\n",
       "    </tr>\n",
       "    <tr>\n",
       "      <th>1</th>\n",
       "      <td>ISIC_0001852</td>\n",
       "      <td>0.0</td>\n",
       "      <td>0.0</td>\n",
       "    </tr>\n",
       "    <tr>\n",
       "      <th>2</th>\n",
       "      <td>ISIC_0001871</td>\n",
       "      <td>0.0</td>\n",
       "      <td>0.0</td>\n",
       "    </tr>\n",
       "    <tr>\n",
       "      <th>3</th>\n",
       "      <td>ISIC_0003462</td>\n",
       "      <td>0.0</td>\n",
       "      <td>0.0</td>\n",
       "    </tr>\n",
       "    <tr>\n",
       "      <th>4</th>\n",
       "      <td>ISIC_0003539</td>\n",
       "      <td>0.0</td>\n",
       "      <td>0.0</td>\n",
       "    </tr>\n",
       "    <tr>\n",
       "      <th>...</th>\n",
       "      <td>...</td>\n",
       "      <td>...</td>\n",
       "      <td>...</td>\n",
       "    </tr>\n",
       "    <tr>\n",
       "      <th>145</th>\n",
       "      <td>ISIC_0015443</td>\n",
       "      <td>0.0</td>\n",
       "      <td>0.0</td>\n",
       "    </tr>\n",
       "    <tr>\n",
       "      <th>146</th>\n",
       "      <td>ISIC_0015445</td>\n",
       "      <td>0.0</td>\n",
       "      <td>0.0</td>\n",
       "    </tr>\n",
       "    <tr>\n",
       "      <th>147</th>\n",
       "      <td>ISIC_0015483</td>\n",
       "      <td>0.0</td>\n",
       "      <td>0.0</td>\n",
       "    </tr>\n",
       "    <tr>\n",
       "      <th>148</th>\n",
       "      <td>ISIC_0015496</td>\n",
       "      <td>0.0</td>\n",
       "      <td>0.0</td>\n",
       "    </tr>\n",
       "    <tr>\n",
       "      <th>149</th>\n",
       "      <td>ISIC_0015627</td>\n",
       "      <td>0.0</td>\n",
       "      <td>0.0</td>\n",
       "    </tr>\n",
       "  </tbody>\n",
       "</table>\n",
       "<p>150 rows × 3 columns</p>\n",
       "</div>"
      ],
      "text/plain": [
       "         image_id  melanoma  seborrheic_keratosis\n",
       "0    ISIC_0001769       0.0                   0.0\n",
       "1    ISIC_0001852       0.0                   0.0\n",
       "2    ISIC_0001871       0.0                   0.0\n",
       "3    ISIC_0003462       0.0                   0.0\n",
       "4    ISIC_0003539       0.0                   0.0\n",
       "..            ...       ...                   ...\n",
       "145  ISIC_0015443       0.0                   0.0\n",
       "146  ISIC_0015445       0.0                   0.0\n",
       "147  ISIC_0015483       0.0                   0.0\n",
       "148  ISIC_0015496       0.0                   0.0\n",
       "149  ISIC_0015627       0.0                   0.0\n",
       "\n",
       "[150 rows x 3 columns]"
      ]
     },
     "execution_count": 27,
     "metadata": {},
     "output_type": "execute_result"
    }
   ],
   "source": [
    "data_truth = pd.read_csv(\"../../data/raw_data/example_ground_truth.csv\")\n",
    "data_truth"
   ]
  },
  {
   "cell_type": "code",
   "execution_count": 31,
   "id": "f3ce2f3d-34f3-49ad-b725-813f4677b745",
   "metadata": {},
   "outputs": [
    {
     "data": {
      "text/plain": [
       "0.0    120\n",
       "1.0     30\n",
       "Name: melanoma, dtype: int64"
      ]
     },
     "execution_count": 31,
     "metadata": {},
     "output_type": "execute_result"
    }
   ],
   "source": [
    "data_truth['melanoma'].value_counts()"
   ]
  },
  {
   "cell_type": "code",
   "execution_count": 32,
   "id": "5767394b-cc4a-4a68-aa93-e04f01641c7a",
   "metadata": {},
   "outputs": [
    {
     "data": {
      "text/plain": [
       "0.0    108\n",
       "1.0     42\n",
       "Name: seborrheic_keratosis, dtype: int64"
      ]
     },
     "execution_count": 32,
     "metadata": {},
     "output_type": "execute_result"
    }
   ],
   "source": [
    "data_truth['seborrheic_keratosis'].value_counts()"
   ]
  },
  {
   "cell_type": "code",
   "execution_count": 47,
   "id": "10cae60a-1276-45f2-851e-93977caafa64",
   "metadata": {},
   "outputs": [
    {
     "name": "stdout",
     "output_type": "stream",
     "text": [
      "There are some same values: False\n",
      "There are no same values: True\n"
     ]
    }
   ],
   "source": [
    "#Don't know if this is useful, but the challenge said 'if there in one class and/or other class'\n",
    "\n",
    "same=['seborrheic_keratosis']==['melanoma']\n",
    "print('There are some same values:', same)\n",
    "notsame=['seborrheic_keratosis']!=['melanoma']\n",
    "print('There are no same values:', notsame)"
   ]
  },
  {
   "cell_type": "markdown",
   "id": "fa179a64-fe94-4bf7-86c9-77bd97f9cfac",
   "metadata": {},
   "source": [
    "The meta data provides the diagnosises *in terms of*/*based on* ex. age, and sex.\n",
    "The meta data for melanoma contains 5734 images. Only 5601 participant are divided into sexes, and therefore there's 133 missing data for sex.\n",
    "\n",
    "NOT SURE ABOUT THIS.\n",
    "It's not mandatory for all participants in this research to be checked for all diagnosises. That could explain why there are more ages recorded than cases of melanoma \n",
    "\n",
    "A problem with some of the images is that the image doesn't include the entire skin lesion, which makes it *hard/inaccurate* to detect ABC. This is evident in ex. ISIC_0014212.jpg.\n",
    "\n",
    "There's also images of low quality, such as ISIC_0015445.jpg. *THIS DOESN'T MAKE A DIFFERENCE AFTER CONVERTED TO BLACK AND WHITE? BUT COULD MAKE ARE \"HUMAN\" EVALUTION WORSE.*"
   ]
  },
  {
   "cell_type": "code",
   "execution_count": null,
   "id": "30f07773-c6d9-4ee5-afdd-268dafa44ffe",
   "metadata": {},
   "outputs": [],
   "source": []
  }
 ],
 "metadata": {
  "kernelspec": {
   "display_name": "Python 3",
   "language": "python",
   "name": "python3"
  },
  "language_info": {
   "codemirror_mode": {
    "name": "ipython",
    "version": 3
   },
   "file_extension": ".py",
   "mimetype": "text/x-python",
   "name": "python",
   "nbconvert_exporter": "python",
   "pygments_lexer": "ipython3",
   "version": "3.8.8"
  }
 },
 "nbformat": 4,
 "nbformat_minor": 5
}
